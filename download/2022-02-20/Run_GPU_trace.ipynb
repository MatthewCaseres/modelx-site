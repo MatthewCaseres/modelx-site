{
 "cells": [
  {
   "cell_type": "code",
   "execution_count": 1,
   "id": "5b17008e",
   "metadata": {},
   "outputs": [],
   "source": [
    "import modelx as mx"
   ]
  },
  {
   "cell_type": "code",
   "execution_count": 2,
   "id": "edfb418f",
   "metadata": {},
   "outputs": [],
   "source": [
    "m = mx.read_model('BasicTerm_ME_GPU.zip')"
   ]
  },
  {
   "cell_type": "code",
   "execution_count": 3,
   "id": "246da22e",
   "metadata": {},
   "outputs": [],
   "source": [
    "@mx.defcells\n",
    "def model_point():\n",
    "    df = pd.DataFrame.from_pandas(model_point_table)\n",
    "\n",
    "    return df.loc[1:250000]"
   ]
  },
  {
   "cell_type": "code",
   "execution_count": 4,
   "id": "808238a2",
   "metadata": {},
   "outputs": [],
   "source": [
    "@mx.defcells\n",
    "def max_proj_len():\n",
    "    return int(proj_len().max())"
   ]
  },
  {
   "cell_type": "code",
   "execution_count": 5,
   "id": "4df786d6",
   "metadata": {},
   "outputs": [
    {
     "name": "stderr",
     "output_type": "stream",
     "text": [
      "UserWarning: call stack trace activated\n"
     ]
    },
    {
     "data": {
      "text/plain": [
       "12.295342496000103"
      ]
     },
     "execution_count": 5,
     "metadata": {},
     "output_type": "execute_result"
    }
   ],
   "source": [
    "import timeit\n",
    "mx.start_stacktrace(None)\n",
    "timeit.timeit('m.Projection.pv_net_cf()', globals=globals(), number=1)"
   ]
  },
  {
   "cell_type": "code",
   "execution_count": 6,
   "id": "b406fe5b",
   "metadata": {},
   "outputs": [],
   "source": [
    "trace = mx.get_stacktrace(True)\n",
    "import pandas as pd\n",
    "pd.DataFrame.from_dict(trace, orient='index').to_excel('stacktrace.xlsx')"
   ]
  }
 ],
 "metadata": {
  "kernelspec": {
   "display_name": "Python 3 (ipykernel)",
   "language": "python",
   "name": "python3"
  },
  "language_info": {
   "codemirror_mode": {
    "name": "ipython",
    "version": 3
   },
   "file_extension": ".py",
   "mimetype": "text/x-python",
   "name": "python",
   "nbconvert_exporter": "python",
   "pygments_lexer": "ipython3",
   "version": "3.8.12"
  }
 },
 "nbformat": 4,
 "nbformat_minor": 5
}
